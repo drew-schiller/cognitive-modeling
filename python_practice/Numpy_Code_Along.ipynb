{
 "cells": [
  {
   "cell_type": "code",
   "execution_count": 1,
   "metadata": {},
   "outputs": [],
   "source": [
    "import numpy as np\n",
    "import matplotlib.pyplot as plt\n",
    "import seaborn as sns\n",
    "\n",
    "np.set_printoptions(suppress=True)"
   ]
  },
  {
   "cell_type": "markdown",
   "metadata": {},
   "source": [
    "# Numpy Basics"
   ]
  },
  {
   "cell_type": "markdown",
   "metadata": {},
   "source": [
    "<p>NumPy is Python's most used library for efficient numerical computations. At the core of numpy lies the N-dimensional array data structure (also called a numpy array).</p>\n",
    "\n",
    "<p>An array is defined by the <strong>type</strong> of elements it contains and its <strong>shape</strong>. For instance, a matrix may be represented as an array of shape (<em>N</em> x <em>M</em>). Note, that numpy arrays can have arbirary shape (<em>Dim1</em>, <em>Dim2</em>, <em>Dim3</em>,...).</p> \n",
    "\n",
    "<div>\n",
    "<img src=\"https://predictivehacks.com/wp-content/uploads/2020/08/numpy_arrays-1024x572.png\" width=\"75%\"/>\n",
    "</div>\n",
    "\n",
    "\n",
    "<p>Besides being a convenient data container, numpy arrays provide an interface to many <strong>vectorized</strong> operations, implemented in native C code. Vectorization in interpreted languages is a means to speed up repetitive computations (elementwise operations, etc.). Thus, vectorization saves your time and makes you more productive!</p>\n",
    "\n",
    "For more information about the nuts and bolts of numpy, check out the very well writte numpy documentation:\n",
    "https://docs.scipy.org/doc/numpy/user/quickstart.html\n",
    "\n",
    "Also, check out this very informative tutorial paper:\n",
    "https://arxiv.org/pdf/1102.1523.pdf\n",
    "\n",
    "<p>Now, let's get some hands-on experience with numpy arrays!</p> "
   ]
  },
  {
   "cell_type": "markdown",
   "metadata": {},
   "source": [
    "## Creating numpy arrays"
   ]
  },
  {
   "cell_type": "code",
   "execution_count": 2,
   "metadata": {},
   "outputs": [],
   "source": [
    "# Numbers in a given range (from:to:step)\n"
   ]
  },
  {
   "cell_type": "code",
   "execution_count": 3,
   "metadata": {},
   "outputs": [],
   "source": [
    "# Linearly spaced items\n"
   ]
  },
  {
   "cell_type": "code",
   "execution_count": 4,
   "metadata": {},
   "outputs": [],
   "source": [
    "# Array of zeros\n"
   ]
  },
  {
   "cell_type": "code",
   "execution_count": 5,
   "metadata": {},
   "outputs": [],
   "source": [
    "# Matrix of zeros\n"
   ]
  },
  {
   "cell_type": "code",
   "execution_count": 6,
   "metadata": {},
   "outputs": [],
   "source": [
    "# Identity matrix\n"
   ]
  },
  {
   "cell_type": "code",
   "execution_count": 7,
   "metadata": {},
   "outputs": [],
   "source": [
    "# Random uniform numbers [0 - 1]\n"
   ]
  },
  {
   "cell_type": "code",
   "execution_count": 8,
   "metadata": {},
   "outputs": [],
   "source": [
    "# Random integers (low - high, high is exclusive)\n"
   ]
  },
  {
   "cell_type": "code",
   "execution_count": 9,
   "metadata": {},
   "outputs": [],
   "source": [
    "# Normally distributed random numbers?\n"
   ]
  },
  {
   "cell_type": "markdown",
   "metadata": {},
   "source": [
    "### Reading from a file"
   ]
  },
  {
   "cell_type": "code",
   "execution_count": 10,
   "metadata": {},
   "outputs": [],
   "source": [
    "# Create a random matrix\n",
    "\n",
    "# Save compressed\n",
    "\n",
    "# Save uncompressed\n"
   ]
  },
  {
   "cell_type": "code",
   "execution_count": 11,
   "metadata": {},
   "outputs": [],
   "source": [
    "# Load from a compressed array\n"
   ]
  },
  {
   "cell_type": "code",
   "execution_count": 12,
   "metadata": {},
   "outputs": [],
   "source": [
    "# Load from a text file\n"
   ]
  },
  {
   "cell_type": "markdown",
   "metadata": {},
   "source": [
    "## Methods and attributes of numpy arrays"
   ]
  },
  {
   "cell_type": "code",
   "execution_count": 13,
   "metadata": {},
   "outputs": [],
   "source": [
    "# Figuring out the shape\n"
   ]
  },
  {
   "cell_type": "code",
   "execution_count": 14,
   "metadata": {},
   "outputs": [],
   "source": [
    "# Figuring out the type of data\n"
   ]
  },
  {
   "cell_type": "code",
   "execution_count": 15,
   "metadata": {},
   "outputs": [],
   "source": [
    "# Figuring out the total number of elements\n"
   ]
  },
  {
   "cell_type": "code",
   "execution_count": 16,
   "metadata": {},
   "outputs": [],
   "source": [
    "arr = np.random.normal(size=20)"
   ]
  },
  {
   "cell_type": "code",
   "execution_count": 17,
   "metadata": {},
   "outputs": [
    {
     "name": "stdout",
     "output_type": "stream",
     "text": [
      "Minimum value:  -1.981916464986095\n",
      "Maximum value:  2.7195330665534634\n",
      "Index of minimum value:  9\n",
      "Index of maximum value:  19\n",
      "----------------------------\n",
      "Minimum value:  -1.981916464986095\n",
      "Maximum value:  2.7195330665534634\n",
      "Index of minimum value:  9\n",
      "Index of maximum value:  19\n"
     ]
    }
   ],
   "source": [
    "# Find min, max, argmax, argmin, mean, std, etc...\n",
    "print('Minimum value: ', arr.min())\n",
    "print('Maximum value: ', arr.max())\n",
    "print('Index of minimum value: ', arr.argmin())\n",
    "print('Index of maximum value: ', arr.argmax())\n",
    "\n",
    "print('----------------------------')\n",
    "\n",
    "# Alternatively, you could use the \"functional grammer\" of numpy\n",
    "print('Minimum value: ', np.min(arr))\n",
    "print('Maximum value: ', np.max(arr))\n",
    "print('Index of minimum value: ', np.argmin(arr))\n",
    "print('Index of maximum value: ', np.argmax(arr))"
   ]
  },
  {
   "cell_type": "code",
   "execution_count": 18,
   "metadata": {},
   "outputs": [],
   "source": [
    "# How about nd arrays? (axis)\n"
   ]
  },
  {
   "cell_type": "markdown",
   "metadata": {},
   "source": [
    "## Indexing and selection of numpy arrays"
   ]
  },
  {
   "cell_type": "markdown",
   "metadata": {},
   "source": [
    "### Indexing 1D arrays"
   ]
  },
  {
   "cell_type": "code",
   "execution_count": 19,
   "metadata": {},
   "outputs": [],
   "source": [
    "# Indexing a single number\n"
   ]
  },
  {
   "cell_type": "code",
   "execution_count": 20,
   "metadata": {},
   "outputs": [],
   "source": [
    "# Indexing a range of numbers (similar to slicing python lists)\n"
   ]
  },
  {
   "cell_type": "code",
   "execution_count": 21,
   "metadata": {},
   "outputs": [],
   "source": [
    "# From index (inclusive) \n"
   ]
  },
  {
   "cell_type": "code",
   "execution_count": 22,
   "metadata": {},
   "outputs": [],
   "source": [
    "# Assigning a slice to a variable\n"
   ]
  },
  {
   "cell_type": "markdown",
   "metadata": {},
   "source": [
    "### Indexing ND arrays"
   ]
  },
  {
   "cell_type": "code",
   "execution_count": 23,
   "metadata": {},
   "outputs": [],
   "source": [
    "# Get a rectangular subarray\n"
   ]
  },
  {
   "cell_type": "markdown",
   "metadata": {},
   "source": [
    "### Conditional selection"
   ]
  },
  {
   "cell_type": "code",
   "execution_count": 24,
   "metadata": {},
   "outputs": [],
   "source": [
    "# Create a boolean array (array of 0s and 1s)\n"
   ]
  },
  {
   "cell_type": "code",
   "execution_count": 25,
   "metadata": {},
   "outputs": [],
   "source": [
    "mat = np.random.normal(size=(4, 3))"
   ]
  },
  {
   "cell_type": "code",
   "execution_count": 26,
   "metadata": {},
   "outputs": [
    {
     "data": {
      "text/plain": [
       "array([[ 0.44595169, -0.45492597],\n",
       "       [-0.01004016, -0.04025907],\n",
       "       [ 1.60777794,  0.13140047],\n",
       "       [-0.09363312, -0.19120177]])"
      ]
     },
     "execution_count": 26,
     "metadata": {},
     "output_type": "execute_result"
    }
   ],
   "source": [
    "mat[..., [False, True, True]]"
   ]
  },
  {
   "cell_type": "code",
   "execution_count": 27,
   "metadata": {},
   "outputs": [
    {
     "data": {
      "text/plain": [
       "array([[ 1.24490335, -0.01004016, -0.04025907],\n",
       "       [ 0.38363919,  1.60777794,  0.13140047]])"
      ]
     },
     "execution_count": 27,
     "metadata": {},
     "output_type": "execute_result"
    }
   ],
   "source": [
    "mat[[False, True, True, False]]"
   ]
  },
  {
   "cell_type": "code",
   "execution_count": 28,
   "metadata": {},
   "outputs": [],
   "source": [
    "# Index with a boolen array (keep only elements whose index corresponds to True)\n"
   ]
  },
  {
   "cell_type": "markdown",
   "metadata": {},
   "source": [
    "<p><strong>Time for a short exercise!</strong></p>\n",
    "\n",
    "Suppose you have a matrix which contains the response times of 50 participants, where each row represents an individual participant.\n",
    "Your data contains missing values, coded as '999' by your student assistant. Your want to take a quick look at the data by:\n",
    "\n",
    "1. Loading the file \"rt_missing.txt\"\n",
    "2. Replacing all 999 values with the value np.nan\n",
    "3. Computing the mean and variance of the the response times for each participant<br>\n",
    "\n",
    "Hint: try to use `np.mean()` and `np.var()` to see what happens and look for a solution."
   ]
  },
  {
   "cell_type": "code",
   "execution_count": 50,
   "metadata": {},
   "outputs": [],
   "source": [
    "data = np.loadtxt(\"../data/rt_missing.txt\", delimiter=\";\")\n",
    "\n",
    "data[data == 999] = np.nan\n",
    "\n",
    "means = np.nanmean(data, axis=1)\n",
    "variances = np.nanvar(data, axis=1)"
   ]
  },
  {
   "cell_type": "code",
   "execution_count": 51,
   "metadata": {},
   "outputs": [
    {
     "data": {
      "image/png": "[encoded data removed]",
      "text/plain": [
       "<Figure size 1200x400 with 2 Axes>"
      ]
     },
     "metadata": {},
     "output_type": "display_data"
    }
   ],
   "source": [
    "# Test your code\n",
    "f, axarr = plt.subplots(1, 2, figsize=(12, 4))\n",
    "sns.histplot(means, ax=axarr[0], color='#aa0000', alpha=0.6)\n",
    "sns.histplot(np.sqrt(variances), ax=axarr[1], color='#0000aa', alpha=0.6)\n",
    "\n",
    "for ax in axarr:\n",
    "    sns.despine(ax=ax)\n",
    "    ax.set_xlabel('Response time (seconds)')\n",
    "axarr[0].set_title('Response Time Means', fontsize=14)\n",
    "axarr[1].set_title('Response Time Standard Deviations', fontsize=14)\n",
    "axarr[1].set_ylabel('')\n",
    "f.tight_layout()"
   ]
  },
  {
   "cell_type": "markdown",
   "metadata": {},
   "source": [
    "## Operations on numpy arrays"
   ]
  },
  {
   "cell_type": "markdown",
   "metadata": {},
   "source": [
    "### Scalar-array operations"
   ]
  },
  {
   "cell_type": "code",
   "execution_count": 57,
   "metadata": {},
   "outputs": [],
   "source": [
    "mat = np.random.rand(2,3)\n",
    "mat2 = np.random.rand(2,3)"
   ]
  },
  {
   "cell_type": "code",
   "execution_count": 55,
   "metadata": {},
   "outputs": [
    {
     "data": {
      "text/plain": [
       "array([[2.19690872, 2.81491154, 1.25548864],\n",
       "       [1.03370869, 2.15657945, 0.78809278]])"
      ]
     },
     "execution_count": 55,
     "metadata": {},
     "output_type": "execute_result"
    }
   ],
   "source": [
    "# All scalar-array algebraic operations are performed element-wise\n",
    "\n",
    "\n",
    "# Multiplication by a scalar\n",
    "3. * mat"
   ]
  },
  {
   "cell_type": "code",
   "execution_count": 32,
   "metadata": {},
   "outputs": [],
   "source": [
    "# Addition of a scalar\n"
   ]
  },
  {
   "cell_type": "markdown",
   "metadata": {},
   "source": [
    "### Array-array operations"
   ]
  },
  {
   "cell_type": "code",
   "execution_count": 33,
   "metadata": {},
   "outputs": [],
   "source": [
    "# You can perform all usual linear algebra operations on numpy arrays\n"
   ]
  },
  {
   "cell_type": "code",
   "execution_count": 58,
   "metadata": {},
   "outputs": [
    {
     "data": {
      "text/plain": [
       "array([[0.18501739, 0.3584653 , 0.20492927],\n",
       "       [0.57070995, 0.43567023, 0.92506054]])"
      ]
     },
     "execution_count": 58,
     "metadata": {},
     "output_type": "execute_result"
    }
   ],
   "source": [
    "# Elementwise multiplication\n",
    "mat * mat2"
   ]
  },
  {
   "cell_type": "code",
   "execution_count": 35,
   "metadata": {},
   "outputs": [],
   "source": [
    "# Elementwise addition\n"
   ]
  },
  {
   "cell_type": "markdown",
   "metadata": {},
   "source": [
    "<p><strong>Matrix Multiplication Memo :)</strong><p>\n",
    "    \n",
    "![Matrix Multiplication Memo](https://www.mathsisfun.com/algebra/images/matrix-multiply-a.svg)"
   ]
  },
  {
   "cell_type": "code",
   "execution_count": 59,
   "metadata": {},
   "outputs": [],
   "source": [
    "mat = np.random.normal(size=(4, 3))\n",
    "mat2 = np.random.normal(size=(3, 6))"
   ]
  },
  {
   "cell_type": "code",
   "execution_count": 60,
   "metadata": {},
   "outputs": [],
   "source": [
    "# Matmul\n",
    "# res = np.matmul(mat, mat2)\n",
    "# res = mat @ mat2\n",
    "# res = mat.dot(mat2)\n",
    "res = np.dot(mat, mat2)\n",
    "assert res.shape == (4, 6)"
   ]
  },
  {
   "cell_type": "code",
   "execution_count": 61,
   "metadata": {},
   "outputs": [],
   "source": [
    "u1 = np.random.rand(100000)\n",
    "u2 = np.random.rand(100000)"
   ]
  },
  {
   "cell_type": "code",
   "execution_count": 39,
   "metadata": {},
   "outputs": [],
   "source": [
    "# Speed comparison between vectorized operations and pure Python loops\n",
    "# We use the \"magic\" keyword time to estimate the running time of a cell"
   ]
  },
  {
   "cell_type": "code",
   "execution_count": 70,
   "metadata": {},
   "outputs": [],
   "source": [
    "def dot_product(v1: np.ndarray, v2: np.ndarray):\n",
    "    \"\"\"Naive dot product implementation.\"\"\"\n",
    "    \n",
    "    ## Your code here\n",
    "    if (v1.shape[0] != v2.shape[0]):\n",
    "        raise ValueError(\"Vectors need to have same length\")\n",
    "\n",
    "    d = 0\n",
    "    for i in range(v1.shape[0]):\n",
    "        d += v1[i] * v2[i]\n",
    "    return d"
   ]
  },
  {
   "cell_type": "code",
   "execution_count": 71,
   "metadata": {},
   "outputs": [],
   "source": [
    "from time import perf_counter\n",
    "\n",
    "def timeit(func):\n",
    "    def wrapper(*args):\n",
    "        t1 = perf_counter()\n",
    "        out = func(*args)\n",
    "        t2 = perf_counter()\n",
    "        print(f'Execution time: {t2 - t1} s.')\n",
    "        return out\n",
    "    return wrapper"
   ]
  },
  {
   "cell_type": "code",
   "execution_count": 72,
   "metadata": {},
   "outputs": [],
   "source": [
    "dot = timeit(dot_product)"
   ]
  },
  {
   "cell_type": "code",
   "execution_count": 73,
   "metadata": {},
   "outputs": [
    {
     "name": "stdout",
     "output_type": "stream",
     "text": [
      "Execution time: 0.03410080005414784 s.\n"
     ]
    },
    {
     "data": {
      "text/plain": [
       "25097.833943414324"
      ]
     },
     "execution_count": 73,
     "metadata": {},
     "output_type": "execute_result"
    }
   ],
   "source": [
    "dot(u1, u2)"
   ]
  },
  {
   "cell_type": "code",
   "execution_count": 74,
   "metadata": {},
   "outputs": [
    {
     "data": {
      "text/plain": [
       "25097.8339434141"
      ]
     },
     "execution_count": 74,
     "metadata": {},
     "output_type": "execute_result"
    }
   ],
   "source": [
    "np.dot(u1, u2)"
   ]
  },
  {
   "cell_type": "markdown",
   "metadata": {},
   "source": [
    "### Aside: Decorators"
   ]
  },
  {
   "cell_type": "code",
   "execution_count": 75,
   "metadata": {},
   "outputs": [
    {
     "name": "stdout",
     "output_type": "stream",
     "text": [
      "30.5 ms ± 595 μs per loop (mean ± std. dev. of 7 runs, 10 loops each)\n"
     ]
    }
   ],
   "source": [
    "%timeit dot_product(u1, u2)"
   ]
  },
  {
   "cell_type": "code",
   "execution_count": 76,
   "metadata": {},
   "outputs": [
    {
     "name": "stdout",
     "output_type": "stream",
     "text": [
      "8.28 μs ± 50.7 ns per loop (mean ± std. dev. of 7 runs, 100,000 loops each)\n"
     ]
    }
   ],
   "source": [
    "%timeit np.dot(u1, u2)"
   ]
  },
  {
   "cell_type": "markdown",
   "metadata": {},
   "source": [
    "### Universal functions"
   ]
  },
  {
   "cell_type": "code",
   "execution_count": 44,
   "metadata": {},
   "outputs": [],
   "source": [
    "# Exponential, log, etc (it's all performed elementwise!)\n"
   ]
  },
  {
   "cell_type": "markdown",
   "metadata": {},
   "source": [
    "## Exercise: OLS Regression with numpy\n",
    "\n",
    "<p>In this exercise, we will compute the parameters (weights) of an OLS regression using only numpy (and our linear algebra knowledge).</p>\n",
    "<p>The forward equation for OLS regression is given by:</p>\n",
    "\n",
    "$$\\hat{y} = \\mathbf{X}\\beta$$\n",
    "\n",
    "where $\\mathbf{X}$ is an $N{\\times}M$ matrix of covariates, and $\\beta$ is a vector of parameters estimated from the data. In OLS regression, we seek to minimize the MSE (mean squared error) criterion:\n",
    "\n",
    "$$MSE(\\beta) = \\frac{1}N\\sum_{i=1}^N(y_i - \\hat{y_i})^2$$\n",
    "\n",
    "<p>which can be written in matrix form as</p>\n",
    "\n",
    "$$MSE(\\beta) = (y - \\mathbf{X}\\beta)^T(y - \\mathbf{X}\\beta)$$\n",
    "\n",
    "setting the gradient of the MSE criterion to zero and solving for $y$, we obtain the following solution which minimizes the MSE:<br>\n",
    "\n",
    "$$\\beta^* = (\\mathbf{X}^T\\mathbf{X})^{-1}\\mathbf{X}^Ty$$\n",
    "\n",
    "See this excellent post for a full derivation: https://eli.thegreenplace.net/2014/derivation-of-the-normal-equation-for-linear-regression\n",
    "\n",
    "Thus, in order to complete this exercise, you need to follow these steps:\n",
    "1. Generate X (covariates) and y (outcome) by calling the `simulate_ols_data()` function\n",
    "2. Complete the `ols(X, y)` function by computing the solution to the normal equation\n",
    "3. Compare your best parameters with the parameters returned by the numpy function `numpy.linalg.lstsq(X, y)`\n",
    "4. Compute RMSE on the training data by completing the function `rmse(y, y_hat)`. The RMSE is given by:\n",
    "<br>\n",
    "<br>\n",
    "\n",
    "$$RMSE= \\sqrt{\\frac{1}N\\sum_{i=1}^N(y_i - \\hat{y_i})^2}$$"
   ]
  },
  {
   "cell_type": "code",
   "execution_count": 45,
   "metadata": {},
   "outputs": [],
   "source": [
    "def simulate_ols_data(N=100, M=3):\n",
    "    \"\"\"Function to simulate synthetic regression data.\"\"\"\n",
    "    \n",
    "    # Generate design matrix\n",
    "    X = np.random.randn(N, M)\n",
    "\n",
    "    # Add intercept to model\n",
    "    X = np.c_[np.ones(shape=(N, 1)), X]\n",
    "\n",
    "    # Generate true beta ~ N(0, 1)\n",
    "    beta_true = np.random.randn(M + 1)\n",
    "\n",
    "    # Compute noisy linear function\n",
    "    y = X @ beta_true + np.random.randn(N)\n",
    "\n",
    "    return X, y, beta_true"
   ]
  },
  {
   "cell_type": "code",
   "execution_count": 46,
   "metadata": {},
   "outputs": [],
   "source": [
    "def ordinary_least_squares(X, y):\n",
    "    \"\"\"Function to compute the parameters of an OLS regression.\"\"\"\n",
    "    \n",
    "    # YOUR CODE HERE\n",
    "    pass"
   ]
  },
  {
   "cell_type": "code",
   "execution_count": 47,
   "metadata": {},
   "outputs": [],
   "source": [
    "def rmse(y, y_hat):\n",
    "    \"\"\"Function to compute the RMSE between predictions and outcomes.\"\"\"\n",
    "    \n",
    "    # YOUR CODE HERE\n",
    "    pass"
   ]
  },
  {
   "cell_type": "code",
   "execution_count": 48,
   "metadata": {},
   "outputs": [],
   "source": [
    "# 1. Simulate regression data\n",
    "X, y, beta_true = simulate_ols_data(N=10000)\n",
    "\n",
    "# 2. Obtain best parameters\n",
    "beta_hat = ordinary_least_squares(X, y)\n",
    "\n",
    "# 3. Obtain best parameters using numpy.linalg.lstsq\n",
    "beta_hat_np = np.linalg.lstsq(X, y, rcond=None)[0]\n",
    "\n",
    "# 4. Compute RMSE on training data\n",
    "y_hat = X @ beta_hat_np\n",
    "\n",
    "rmse_train = rmse(y, y_hat)"
   ]
  },
  {
   "cell_type": "code",
   "execution_count": 49,
   "metadata": {},
   "outputs": [
    {
     "name": "stdout",
     "output_type": "stream",
     "text": [
      "True betas:  [ 0.61611233 -1.94055042  1.20166637 -0.8921736 ]\n",
      "OLS betas:  None\n",
      "Numpy LSTSQ betas [ 0.59021433 -1.93646164  1.19333781 -0.89867084]\n",
      "RMSE train:  None\n"
     ]
    }
   ],
   "source": [
    "print('True betas: ', beta_true)\n",
    "print('OLS betas: ', beta_hat)\n",
    "print('Numpy LSTSQ betas', beta_hat_np)\n",
    "print('RMSE train: ', rmse_train)"
   ]
  },
  {
   "cell_type": "markdown",
   "metadata": {},
   "source": [
    "# Aside on plotting"
   ]
  },
  {
   "cell_type": "code",
   "execution_count": null,
   "metadata": {},
   "outputs": [],
   "source": []
  },
  {
   "cell_type": "code",
   "execution_count": null,
   "metadata": {},
   "outputs": [],
   "source": []
  }
 ],
 "metadata": {
  "kernelspec": {
   "display_name": "bf",
   "language": "python",
   "name": "python3"
  },
  "language_info": {
   "codemirror_mode": {
    "name": "ipython",
    "version": 3
   },
   "file_extension": ".py",
   "mimetype": "text/x-python",
   "name": "python",
   "nbconvert_exporter": "python",
   "pygments_lexer": "ipython3",
   "version": "3.12.0"
  },
  "toc": {
   "base_numbering": 1,
   "nav_menu": {
    "height": "421px",
    "width": "410px"
   },
   "number_sections": true,
   "sideBar": true,
   "skip_h1_title": false,
   "title_cell": "Table of Contents",
   "title_sidebar": "Contents",
   "toc_cell": true,
   "toc_position": {
    "height": "calc(100% - 180px)",
    "left": "10px",
    "top": "150px",
    "width": "245.8px"
   },
   "toc_section_display": true,
   "toc_window_display": true
  }
 },
 "nbformat": 4,
 "nbformat_minor": 2
}
