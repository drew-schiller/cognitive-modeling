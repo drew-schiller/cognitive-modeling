{
 "cells": [
  {
   "cell_type": "markdown",
   "id": "22e19884",
   "metadata": {},
   "source": [
    "# The Zen of Python\n",
    "\n",
    "* Beautiful is better than ugly.\n",
    "* Explicit is better than implicit.\n",
    "* Simple is better than complex.\n",
    "* Complex is better than complicated.\n",
    "* Flat is better than nested.\n",
    "* Sparse is better than dense.\n",
    "* Readability counts.\n",
    "* Special cases aren't special enough to break the rules.\n",
    "* Although practicality beats purity.\n",
    "* Errors should never pass silently.\n",
    "* Unless explicitly silenced.\n",
    "* In the face of ambiguity, refuse the temptation to guess.\n",
    "* There should be one-- and preferably only one --obvious way to do it.\n",
    "* Although that way may not be obvious at first unless you're Dutch.\n",
    "* Now is better than never.\n",
    "* Although never is often better than *right* now.\n",
    "* If the implementation is hard to explain, it's a bad idea.\n",
    "* If the implementation is easy to explain, it may be a good idea.\n",
    "* Namespaces are one honking great idea -- let's do more of those!\n",
    "\n",
    "(from https://peps.python.org/pep-0020/)"
   ]
  },
  {
   "cell_type": "markdown",
   "id": "ad0fa945",
   "metadata": {},
   "source": []
  },
  {
   "cell_type": "markdown",
   "id": "b5bc35df",
   "metadata": {},
   "source": [
    "# Quick Recap: Data Structures"
   ]
  },
  {
   "cell_type": "code",
   "execution_count": 41,
   "id": "890fc33c",
   "metadata": {},
   "outputs": [],
   "source": [
    "# All python data structures are mutable or immutable\n",
    "a = 4"
   ]
  },
  {
   "cell_type": "markdown",
   "id": "c4c09bdb",
   "metadata": {},
   "source": [
    "# Quick Recap: Looping"
   ]
  },
  {
   "cell_type": "code",
   "execution_count": null,
   "id": "f65198a7",
   "metadata": {},
   "outputs": [],
   "source": []
  },
  {
   "cell_type": "markdown",
   "id": "80e4f0e1",
   "metadata": {},
   "source": [
    "# Exercise: Cocktail Time\n",
    "\n",
    "Collect the following information from the data file `cocktails.json` using only one-liners:\n",
    "\n",
    "1. the number of centiliters (cl) of lime juice needed for making a Mojito \n",
    "2. a lexicographically sorted list of all cocktail names;\n",
    "3. a list of all cocktail names that have two or more colors;\n",
    "4. a list of all ingredient names (and only names!) needed for a Negroni;\n",
    "5. a list of the names of all cocktails that require at most 3 centiliters (cl) of orange juice."
   ]
  },
  {
   "cell_type": "code",
   "execution_count": 42,
   "id": "55456f3f",
   "metadata": {},
   "outputs": [
    {
     "name": "stdout",
     "output_type": "stream",
     "text": [
      "3\n",
      "['Americano', 'Angel Face', 'Aviation', 'B-52', 'Bacardi', 'Barracuda', 'Bellini', 'Between the Sheets', 'Black Russian', 'Bloody Mary', 'Bluebird', 'Bramble', 'Brandy Alexander', 'Caipirinha', 'Casino', 'Champagne Cocktail', 'Clover Club', 'Cosmopolitan', 'Cuba Libre', 'Daiquiri', \"Dark 'n' Stormy\", 'Derby', 'Dirty Martini', 'Dry Martini', 'Espresso Martini', 'French 75', 'French Connection', 'French Martini', 'Gimlet', 'Gin Fizz', 'Godfather', 'Godmother', 'Golden Dream', 'Grasshopper', 'Harvey Wallbanger', 'Hemingway Special', \"Horse's Neck\", 'Irish Coffee', 'John Collins', 'Kamikaze', 'Kir', 'Lemon Drop', 'Long Island Iced Tea', 'Mai Tai', 'Manhattan', 'Margarita', 'Mary Pickford', 'Mimosa', 'Mint Julep', 'Mojito', 'Monkey Gland', 'Moscow Mule', 'Negroni', 'Old Fashioned', 'Paradise', 'Pina Colada', 'Pisco Sour', \"Planter's Punch\", 'Porto Flip', 'Ramos Fizz', 'Rose', 'Russian Spring Punch', 'Rusty Nail', 'Sazerac', 'Screwdriver', 'Sea Breeze', 'Sex on the Beach', 'Sidecar', 'Singapore Sling', 'Spritz Veneziano', 'Stinger', 'Tequila Sunrise', \"Tommy's Margarita\", 'Tuxedo', 'Vampiro', 'Vesper', 'Whiskey Sour', 'White Lady', 'White Russian', 'Yellow Bird']\n",
      "['Old Fashioned', 'Mojito', \"Planter's Punch\", 'Sea Breeze', 'Clover Club', 'Cuba Libre', 'Espresso Martini', 'Tequila Sunrise', 'B-52', 'Bramble', 'Black Russian', 'Sex on the Beach', 'Irish Coffee', 'Americano', 'Mint Julep', \"Dark 'n' Stormy\", 'Casino', 'Caipirinha']\n",
      "['Gin', 'Campari', 'Vermouth']\n",
      "['Golden Dream', 'Monkey Gland', 'Paradise', 'Vampiro']\n"
     ]
    }
   ],
   "source": [
    "import json\n",
    "\n",
    "cocktails = json.load(open(\"../data/cocktails.json\", \"r\", encoding=\"utf8\"))\n",
    "\n",
    "### Your code here\n",
    "print([[j[\"amount\"] for j in i[\"ingredients\"] if j[\"ingredient\"] == \"Lime juice\"] for i in cocktails if i[\"name\"] == \"Mojito\"][0][0])\n",
    "print(sorted([i[\"name\"] for i in cocktails]))\n",
    "print([i[\"name\"] for i in cocktails if i[\"colors\"][0] != \"#\" and len(i[\"colors\"]) >= 2])\n",
    "print([[j[\"ingredient\"] for j in i[\"ingredients\"]] for i in cocktails if i[\"name\"] == \"Negroni\"][0])\n",
    "print([i[\"name\"] for i in cocktails if any(j.get(\"ingredient\") == \"Orange juice\" and j.get(\"amount\") <= 3 for j in i[\"ingredients\"])])"
   ]
  },
  {
   "cell_type": "markdown",
   "id": "2b4d9600",
   "metadata": {},
   "source": [
    "# Quick Recap: Classes and Functions"
   ]
  },
  {
   "cell_type": "markdown",
   "id": "1185447f",
   "metadata": {},
   "source": []
  },
  {
   "cell_type": "code",
   "execution_count": 43,
   "id": "e367ec8a",
   "metadata": {},
   "outputs": [],
   "source": [
    "from copy import copy, deepcopy"
   ]
  },
  {
   "cell_type": "code",
   "execution_count": 44,
   "id": "9795689d",
   "metadata": {},
   "outputs": [],
   "source": [
    "def my_fun(alist):\n",
    "  alist = deepcopy(alist)\n",
    "  alist.append(\"Tricked you!\")\n",
    "  return alist"
   ]
  },
  {
   "cell_type": "code",
   "execution_count": 45,
   "id": "a04b03b7",
   "metadata": {},
   "outputs": [],
   "source": [
    "my_list = [\"a\", \"b\"]\n",
    "new_list = my_fun(my_list)"
   ]
  },
  {
   "cell_type": "code",
   "execution_count": 46,
   "id": "8565efdc",
   "metadata": {},
   "outputs": [
    {
     "data": {
      "text/plain": [
       "['a', 'b', 'Tricked you!']"
      ]
     },
     "execution_count": 46,
     "metadata": {},
     "output_type": "execute_result"
    }
   ],
   "source": [
    "new_list"
   ]
  },
  {
   "cell_type": "code",
   "execution_count": 47,
   "id": "87e5cf1b",
   "metadata": {},
   "outputs": [
    {
     "data": {
      "text/plain": [
       "['a', 'b']"
      ]
     },
     "execution_count": 47,
     "metadata": {},
     "output_type": "execute_result"
    }
   ],
   "source": [
    "my_list"
   ]
  },
  {
   "cell_type": "code",
   "execution_count": 48,
   "id": "783fcd3b",
   "metadata": {},
   "outputs": [
    {
     "data": {
      "text/plain": [
       "'0x26e63073980'"
      ]
     },
     "execution_count": 48,
     "metadata": {},
     "output_type": "execute_result"
    }
   ],
   "source": [
    "hex(id(new_list))"
   ]
  },
  {
   "cell_type": "code",
   "execution_count": 49,
   "id": "e1ddce30",
   "metadata": {},
   "outputs": [
    {
     "data": {
      "text/plain": [
       "'0x26e63073b80'"
      ]
     },
     "execution_count": 49,
     "metadata": {},
     "output_type": "execute_result"
    }
   ],
   "source": [
    "hex(id(my_list))"
   ]
  },
  {
   "cell_type": "code",
   "execution_count": null,
   "id": "3a983923",
   "metadata": {},
   "outputs": [],
   "source": [
    "class MyClass:\n",
    "  pass\n",
    "\n",
    "c = MyClass()"
   ]
  },
  {
   "cell_type": "markdown",
   "id": "05de1ad7",
   "metadata": {},
   "source": [
    "# Exercise: Infectious Disease Modeling"
   ]
  },
  {
   "cell_type": "markdown",
   "id": "65b107ba",
   "metadata": {},
   "source": [
    "<p>In this exercise, you will explore and implement a popular epidemiological model of infectuous disease outbreaks.</p>\n",
    "\n",
    "<p>In particular, we will look at the SEIR model, which is an instance of the compartmental model family:</p>\n",
    "\n",
    "![SEIR](https://docs.idmod.org/projects/emod-tuberculosis/en/latest/_images/SEIR-SEIRS.png)\n",
    "\n",
    "<p>Compartmental models partition a population into discrete subgroups. In the case of the SEIR model, the groups are:</p>\n",
    "<br>\n",
    "1. S - Susceptible: People who can become infected<br>\n",
    "2. E - Exposed: People who have been exposed to the virus<br>\n",
    "3. I - Infected: People who have been infected by the virus<br>\n",
    "4. R - Recovered: People who have recovered from the virus <br>\n",
    "\n",
    "Needless to say, there are numerous extentions of this basic model, but it is useful for simulations and (even policy making!). The discrete-time SEIR model is given by the following set of difference equations:\n",
    "$$\\begin{align}\n",
    "S_t &= S_{t-1} -(\\beta S_{t-1} I_{t-1})/N \\\\\n",
    "E_t &= E_{t-1} + (\\beta S_{t-1} I_{t-1})/N - \\sigma E_{t-1} \\\\\n",
    "I_t &= I_{t-1} + \\sigma E_{t-1} - \\gamma I_{t-1} \\\\\n",
    "R_t &= R_{t-1} + \\gamma I_{t-1}\n",
    "\\end{align}$$\n",
    "\n",
    "which govern the interactions between the compartments. In the continuous case, the model would be specified by a set of ordinary differential equations (ODEs). The dynamics of the process model are controled by three parameters:\n",
    "\n",
    "1. $\\beta$ - the average contact rate in the population\n",
    "2. $\\sigma$ - the inverse of the incubation period (1 / days_incubation)\n",
    "3. $\\gamma$ - the inverse of the mean infectuous period (1 / days_infectuous)\n",
    "\n",
    "Thus, we can compute the basic reproduction number $R_0$ as\n",
    "$$ R_0 = \\frac{\\beta}{\\gamma}$$\n",
    "\n",
    "The goal of this exercise is to implement the discrete-time SEIR model as a function which takes an input the initial conditions and a vector of parameters and returns the four timeseries of S, E, I, and R people.\n",
    "Once your code works, create a separate module and commit it to a repository."
   ]
  },
  {
   "cell_type": "code",
   "execution_count": 3,
   "id": "31314936",
   "metadata": {},
   "outputs": [
    {
     "ename": "ModuleNotFoundError",
     "evalue": "No module named 'matplotlib'",
     "output_type": "error",
     "traceback": [
      "\u001b[1;31m---------------------------------------------------------------------------\u001b[0m",
      "\u001b[1;31mModuleNotFoundError\u001b[0m                       Traceback (most recent call last)",
      "\u001b[1;32mc:\\Users\\schild\\Documents\\RPI\\CognitiveModeling\\python_practice\\practice_notebook.ipynb Cell 21\u001b[0m line \u001b[0;36m1\n\u001b[1;32m----> <a href='vscode-notebook-cell:/c%3A/Users/schild/Documents/RPI/CognitiveModeling/python_practice/practice_notebook.ipynb#X26sZmlsZQ%3D%3D?line=0'>1</a>\u001b[0m \u001b[39mimport\u001b[39;00m\u001b[39m \u001b[39m\u001b[39mmatplotlib\u001b[39;00m\u001b[39m.\u001b[39;00m\u001b[39mpyplot\u001b[39;00m\u001b[39m \u001b[39m\u001b[39mas\u001b[39;00m\u001b[39m \u001b[39m\u001b[39mplt\u001b[39;00m\n\u001b[0;32m      <a href='vscode-notebook-cell:/c%3A/Users/schild/Documents/RPI/CognitiveModeling/python_practice/practice_notebook.ipynb#X26sZmlsZQ%3D%3D?line=3'>4</a>\u001b[0m \u001b[39mdef\u001b[39;00m\u001b[39m \u001b[39m\u001b[39mplot_results\u001b[39m(infected):\n\u001b[0;32m      <a href='vscode-notebook-cell:/c%3A/Users/schild/Documents/RPI/CognitiveModeling/python_practice/practice_notebook.ipynb#X26sZmlsZQ%3D%3D?line=4'>5</a>\u001b[0m \u001b[39m    \u001b[39m\u001b[39m\"\"\"Plots the time series of infected cases.\"\"\"\u001b[39;00m\n",
      "\u001b[1;31mModuleNotFoundError\u001b[0m: No module named 'matplotlib'"
     ]
    }
   ],
   "source": [
    "import matplotlib.pyplot as plt\n",
    "\n",
    "\n",
    "def plot_results(infected):\n",
    "    \"\"\"Plots the time series of infected cases.\"\"\"\n",
    "    \n",
    "    fig, ax = plt.subplots(1, 1, figsize=(10, 6))\n",
    "    ax.plot(infected, color='#AA0000', linestyle='dashed', marker='o')\n",
    "    ax.set_xlabel('Day', fontsize=16)\n",
    "    ax.set_ylabel('Number of Infected Cases', fontsize=16)\n",
    "    ax.set_title('Simulated Oubreak', fontsize=20)\n",
    "    ax.grid(alpha=0.2)\n",
    "    return fig"
   ]
  },
  {
   "cell_type": "code",
   "execution_count": null,
   "id": "3d75333e",
   "metadata": {},
   "outputs": [],
   "source": [
    "def simulate_seir(parameters, initial_conditions, days=51):\n",
    "    \"\"\"TODO\"\"\"\n",
    "\n",
    "    # Extract parameters and initial conditions (Your code here)\n",
    "    beta, sigma, gamma = parameters\n",
    "    S0, E0, I0, R0 = initial_conditions\n",
    "\n",
    "    ### Your code here\n",
    "    \n",
    "    # For each day, perform SEIR update\n",
    "    for t in range(1, days):\n",
    "\n",
    "        pass\n",
    "        ### Your code here\n",
    "\n",
    "    ### Your code here"
   ]
  },
  {
   "cell_type": "code",
   "execution_count": null,
   "id": "1563e602",
   "metadata": {},
   "outputs": [
    {
     "data": {
      "image/png": "[encoded data removed]",
      "text/plain": [
       "<Figure size 1000x600 with 1 Axes>"
      ]
     },
     "metadata": {},
     "output_type": "display_data"
    }
   ],
   "source": [
    "parameters = (3, 0.5, 0.5)\n",
    "\n",
    "# S0, E0, I0, R0\n",
    "inits = (9999., 1., 0., 0.)\n",
    "\n",
    "### Your code here\n",
    "sim = simulate_seir(parameters, inits, 100)\n",
    "\n",
    "### Expected result\n",
    "f = plot_results(sim[2])"
   ]
  },
  {
   "cell_type": "code",
   "execution_count": null,
   "id": "df682a69",
   "metadata": {},
   "outputs": [],
   "source": []
  }
 ],
 "metadata": {
  "kernelspec": {
   "display_name": "bf",
   "language": "python",
   "name": "python3"
  },
  "language_info": {
   "codemirror_mode": {
    "name": "ipython",
    "version": 3
   },
   "file_extension": ".py",
   "mimetype": "text/x-python",
   "name": "python",
   "nbconvert_exporter": "python",
   "pygments_lexer": "ipython3",
   "version": "3.10.0"
  },
  "toc": {
   "base_numbering": 1,
   "nav_menu": {},
   "number_sections": true,
   "sideBar": true,
   "skip_h1_title": false,
   "title_cell": "Table of Contents",
   "title_sidebar": "Contents",
   "toc_cell": false,
   "toc_position": {
    "height": "calc(100% - 180px)",
    "left": "10px",
    "top": "150px",
    "width": "165px"
   },
   "toc_section_display": true,
   "toc_window_display": true
  }
 },
 "nbformat": 4,
 "nbformat_minor": 5
}
