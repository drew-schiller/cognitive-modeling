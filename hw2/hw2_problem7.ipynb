{
 "cells": [
  {
   "cell_type": "code",
   "execution_count": null,
   "metadata": {},
   "outputs": [],
   "source": [
    "import numpy as np\n",
    "\n",
    "def multivariate_normal_density(x, mu, Sigma):\n",
    "    \"\"\"\n",
    "    Computes the probability density function of a multivariate normal distribution.\n",
    "\n",
    "    Parameters:\n",
    "    x : array-like, shape (D,)\n",
    "        The input D-dimensional vector.\n",
    "    mu : array-like, shape (D,)\n",
    "        The mean vector of the distribution.\n",
    "    Sigma : array-like, shape (D, D)\n",
    "        The covariance matrix of the distribution.\n",
    "\n",
    "    Returns:\n",
    "    float\n",
    "        The probability density function value at x.\n",
    "    \"\"\"\n",
    "    D = len(mu)\n",
    "    det_Sigma = np.linalg.det(Sigma)\n",
    "    inv_Sigma = np.linalg.inv(Sigma)\n",
    "    norm_const = 1 / (np.sqrt((2 * np.pi) ** D * det_Sigma))\n",
    "    diff = x - mu\n",
    "    exponent = -0.5 * np.dot(diff.T, np.dot(inv_Sigma, diff))\n",
    "    \n",
    "    return norm_const * np.exp(exponent)\n"
   ]
  },
  {
   "cell_type": "code",
   "execution_count": 1,
   "metadata": {},
   "outputs": [
    {
     "ename": "NameError",
     "evalue": "name 'np' is not defined",
     "output_type": "error",
     "traceback": [
      "\u001b[0;31m---------------------------------------------------------------------------\u001b[0m",
      "\u001b[0;31mNameError\u001b[0m                                 Traceback (most recent call last)",
      "Cell \u001b[0;32mIn[1], line 6\u001b[0m\n\u001b[1;32m      1\u001b[0m \u001b[38;5;28;01mfrom\u001b[39;00m\u001b[38;5;250m \u001b[39m\u001b[38;5;21;01mscipy\u001b[39;00m\u001b[38;5;21;01m.\u001b[39;00m\u001b[38;5;21;01mstats\u001b[39;00m\u001b[38;5;250m \u001b[39m\u001b[38;5;28;01mimport\u001b[39;00m multivariate_normal\n\u001b[1;32m      3\u001b[0m \u001b[38;5;66;03m# Verification with scipy.stats.multivariate_normal\u001b[39;00m\n\u001b[1;32m      4\u001b[0m \n\u001b[1;32m      5\u001b[0m \u001b[38;5;66;03m# Example parameters\u001b[39;00m\n\u001b[0;32m----> 6\u001b[0m mu \u001b[38;5;241m=\u001b[39m \u001b[43mnp\u001b[49m\u001b[38;5;241m.\u001b[39marray([\u001b[38;5;241m0\u001b[39m, \u001b[38;5;241m0\u001b[39m])\n\u001b[1;32m      7\u001b[0m Sigma_spherical \u001b[38;5;241m=\u001b[39m np\u001b[38;5;241m.\u001b[39marray([[\u001b[38;5;241m1\u001b[39m, \u001b[38;5;241m0\u001b[39m], [\u001b[38;5;241m0\u001b[39m, \u001b[38;5;241m1\u001b[39m]])  \u001b[38;5;66;03m# Spherical Gaussian\u001b[39;00m\n\u001b[1;32m      8\u001b[0m Sigma_diagonal \u001b[38;5;241m=\u001b[39m np\u001b[38;5;241m.\u001b[39marray([[\u001b[38;5;241m2\u001b[39m, \u001b[38;5;241m0\u001b[39m], [\u001b[38;5;241m0\u001b[39m, \u001b[38;5;241m3\u001b[39m]])   \u001b[38;5;66;03m# Diagonal Gaussian\u001b[39;00m\n",
      "\u001b[0;31mNameError\u001b[0m: name 'np' is not defined"
     ]
    }
   ],
   "source": [
    "from scipy.stats import multivariate_normal\n",
    "\n",
    "# Verification with scipy.stats.multivariate_normal\n",
    "\n",
    "# Example parameters\n",
    "mu = np.array([0, 0])\n",
    "Sigma_spherical = np.array([[1, 0], [0, 1]])  # Spherical Gaussian\n",
    "Sigma_diagonal = np.array([[2, 0], [0, 3]])   # Diagonal Gaussian\n",
    "Sigma_full = np.array([[2, 0.5], [0.5, 3]])   # Full covariance Gaussian\n",
    "x = np.array([1, 1])\n",
    "\n",
    "# Compute densities\n",
    "custom_density = multivariate_normal_density(x, mu, Sigma_full)\n",
    "scipy_density = multivariate_normal(mean=mu, cov=Sigma_full).pdf(x)\n",
    "\n",
    "print(\"Custom function density:\", custom_density)\n",
    "print(\"SciPy function density:\", scipy_density)\n"
   ]
  }
 ],
 "metadata": {
  "kernelspec": {
   "display_name": "cognitive",
   "language": "python",
   "name": "python3"
  },
  "language_info": {
   "codemirror_mode": {
    "name": "ipython",
    "version": 3
   },
   "file_extension": ".py",
   "mimetype": "text/x-python",
   "name": "python",
   "nbconvert_exporter": "python",
   "pygments_lexer": "ipython3",
   "version": "3.12.0"
  }
 },
 "nbformat": 4,
 "nbformat_minor": 2
}
