{
 "cells": [
  {
   "cell_type": "code",
   "execution_count": 6,
   "metadata": {},
   "outputs": [],
   "source": [
    "import numpy as np\n",
    "import matplotlib.pyplot as plt\n",
    "import pandas as pd\n",
    "\n",
    "import stan\n",
    "import arviz as az\n",
    "\n",
    "import nest_asyncio\n",
    "nest_asyncio.apply()"
   ]
  },
  {
   "cell_type": "code",
   "execution_count": 7,
   "metadata": {},
   "outputs": [],
   "source": [
    "N_old = 10\n",
    "N_new = 10\n",
    "h = 9\n",
    "fa = 1"
   ]
  },
  {
   "cell_type": "code",
   "execution_count": 8,
   "metadata": {},
   "outputs": [],
   "source": [
    "#Parameters: d (detect old), g (old guess)\n",
    "one_high_threshold_mpt = \"\"\"\n",
    "data {\n",
    "  int<lower=0> N_old;\n",
    "  int<lower=0> N_new;\n",
    "  int<lower=0> h;      // hits\n",
    "  int<lower=0> fa;     // false alarms\n",
    "}\n",
    "parameters {\n",
    "  real<lower=0, upper=1> d;   // probability of detecting an old item\n",
    "  real<lower=0, upper=1> g;   // probability of guessing old\n",
    "}\n",
    "model {\n",
    "  h  ~ binomial(N_old, d + (1 - d) * g);\n",
    "  fa ~ binomial(N_new, (1 - d) * g);\n",
    "}\n",
    "\"\"\""
   ]
  },
  {
   "cell_type": "code",
   "execution_count": 9,
   "metadata": {},
   "outputs": [],
   "source": [
    "#Parameters: d_o (detect old), d_n (detect new), g (old guess)\n",
    "two_high_threshold_mpt = \"\"\"\n",
    "data {\n",
    "  int<lower=0> N_old;\n",
    "  int<lower=0> N_new;\n",
    "  int<lower=0> h;\n",
    "  int<lower=0> fa;\n",
    "}\n",
    "parameters {\n",
    "  real<lower=0, upper=1> d_o;  // P(detect old when old)\n",
    "  real<lower=0, upper=1> d_n;  // P(detect old when new)\n",
    "  real<lower=0, upper=1> g;   // P(guess old)\n",
    "}\n",
    "model {\n",
    "  h  ~ binomial(N_old, d_o + (1 - d_o) * g);\n",
    "  fa ~ binomial(N_new, (1 - d_n) * g);\n",
    "}\n",
    "\"\"\""
   ]
  },
  {
   "cell_type": "code",
   "execution_count": 10,
   "metadata": {},
   "outputs": [
    {
     "name": "stdout",
     "output_type": "stream",
     "text": [
      "Building..."
     ]
    },
    {
     "name": "stderr",
     "output_type": "stream",
     "text": [
      "In file included from /home/schild/anaconda3/envs/cognitive/lib/python3.12/site-packages/httpstan/include/stan/math/prim/prob/std_normal_ccdf_log.hpp:5,\n",
      "                 from /home/schild/anaconda3/envs/cognitive/lib/python3.12/site-packages/httpstan/include/stan/math/prim/prob.hpp:331,\n",
      "                 from /home/schild/anaconda3/envs/cognitive/lib/python3.12/site-packages/httpstan/include/stan/math/prim.hpp:16,\n",
      "                 from /home/schild/anaconda3/envs/cognitive/lib/python3.12/site-packages/httpstan/include/stan/math/rev.hpp:16,\n",
      "                 from /home/schild/anaconda3/envs/cognitive/lib/python3.12/site-packages/httpstan/include/stan/math.hpp:19,\n",
      "                 from /home/schild/anaconda3/envs/cognitive/lib/python3.12/site-packages/httpstan/include/stan/model/model_header.hpp:4,\n",
      "                 from /home/schild/.cache/httpstan/4.13.0/models/ov366x2h/model_ov366x2h.cpp:2:\n",
      "/home/schild/anaconda3/envs/cognitive/lib/python3.12/site-packages/httpstan/include/stan/math/prim/prob/std_normal_lccdf.hpp: In function ‘stan::return_type_t<T> stan::math::std_normal_lccdf(const T_y&)’:\n",
      "/home/schild/anaconda3/envs/cognitive/lib/python3.12/site-packages/httpstan/include/stan/math/prim/prob/std_normal_lccdf.hpp:52: note: ‘-Wmisleading-indentation’ is disabled from this point onwards, since column-tracking was disabled due to the size of the code/headers\n",
      "   52 |     } else if (y_dbl > 8.25) {\n",
      "      | \n",
      "/home/schild/anaconda3/envs/cognitive/lib/python3.12/site-packages/httpstan/include/stan/math/prim/prob/std_normal_lccdf.hpp:52: note: adding ‘-flarge-source-files’ will allow for more column-tracking support, at the expense of compilation time and memory\n",
      "In file included from /home/schild/anaconda3/envs/cognitive/lib/python3.12/site-packages/httpstan/include/stan/model/model_header.hpp:11:\n",
      "/home/schild/anaconda3/envs/cognitive/lib/python3.12/site-packages/httpstan/include/stan/model/model_base_crtp.hpp: At global scope:\n",
      "/home/schild/anaconda3/envs/cognitive/lib/python3.12/site-packages/httpstan/include/stan/model/model_base_crtp.hpp:159: warning: ‘stan::math::var stan::model::model_base_crtp<M>::log_prob(std::vector<stan::math::var_value<double>, std::allocator<stan::math::var_value<double> > >&, std::vector<int>&, std::ostream*) const [with M = model_ov366x2h_namespace::model_ov366x2h; stan::math::var = stan::math::var_value<double>; std::ostream = std::basic_ostream<char>]’ was hidden [-Woverloaded-virtual=]\n",
      "  159 |   inline math::var log_prob(std::vector<math::var>& theta,\n",
      "      | \n",
      "/home/schild/.cache/httpstan/4.13.0/models/ov366x2h/model_ov366x2h.cpp:376: note:   by ‘model_ov366x2h_namespace::model_ov366x2h::log_prob’\n",
      "  376 |   log_prob(std::vector<T_>& params_r, std::vector<int>& params_i,\n",
      "      | \n",
      "/home/schild/anaconda3/envs/cognitive/lib/python3.12/site-packages/httpstan/include/stan/model/model_base_crtp.hpp:154: warning: ‘double stan::model::model_base_crtp<M>::log_prob(std::vector<double, std::allocator<double> >&, std::vector<int>&, std::ostream*) const [with M = model_ov366x2h_namespace::model_ov366x2h; std::ostream = std::basic_ostream<char>]’ was hidden [-Woverloaded-virtual=]\n",
      "  154 |   inline double log_prob(std::vector<double>& theta, std::vector<int>& theta_i,\n",
      "      | \n",
      "/home/schild/.cache/httpstan/4.13.0/models/ov366x2h/model_ov366x2h.cpp:376: note:   by ‘model_ov366x2h_namespace::model_ov366x2h::log_prob’\n",
      "  376 |   log_prob(std::vector<T_>& params_r, std::vector<int>& params_i,\n",
      "      | \n",
      "/home/schild/anaconda3/envs/cognitive/lib/python3.12/site-packages/httpstan/include/stan/model/model_base_crtp.hpp:96: warning: ‘stan::math::var stan::model::model_base_crtp<M>::log_prob(Eigen::Matrix<stan::math::var_value<double>, -1, 1>&, std::ostream*) const [with M = model_ov366x2h_namespace::model_ov366x2h; stan::math::var = stan::math::var_value<double>; std::ostream = std::basic_ostream<char>]’ was hidden [-Woverloaded-virtual=]\n",
      "   96 |   inline math::var log_prob(Eigen::Matrix<math::var, -1, 1>& theta,\n",
      "      | \n",
      "/home/schild/.cache/httpstan/4.13.0/models/ov366x2h/model_ov366x2h.cpp:376: note:   by ‘model_ov366x2h_namespace::model_ov366x2h::log_prob’\n",
      "  376 |   log_prob(std::vector<T_>& params_r, std::vector<int>& params_i,\n",
      "      | \n",
      "/home/schild/anaconda3/envs/cognitive/lib/python3.12/site-packages/httpstan/include/stan/model/model_base_crtp.hpp:91: warning: ‘double stan::model::model_base_crtp<M>::log_prob(Eigen::VectorXd&, std::ostream*) const [with M = model_ov366x2h_namespace::model_ov366x2h; Eigen::VectorXd = Eigen::Matrix<double, -1, 1>; std::ostream = std::basic_ostream<char>]’ was hidden [-Woverloaded-virtual=]\n",
      "   91 |   inline double log_prob(Eigen::VectorXd& theta,\n",
      "      | \n",
      "/home/schild/.cache/httpstan/4.13.0/models/ov366x2h/model_ov366x2h.cpp:376: note:   by ‘model_ov366x2h_namespace::model_ov366x2h::log_prob’\n",
      "  376 |   log_prob(std::vector<T_>& params_r, std::vector<int>& params_i,\n",
      "      | \n",
      "In file included from /home/schild/anaconda3/envs/cognitive/lib/python3.12/site-packages/httpstan/include/tbb/concurrent_unordered_map.h:26,\n",
      "                 from /home/schild/anaconda3/envs/cognitive/lib/python3.12/site-packages/httpstan/include/stan/math/rev/core/profiling.hpp:10,\n",
      "                 from /home/schild/anaconda3/envs/cognitive/lib/python3.12/site-packages/httpstan/include/stan/math/rev/core.hpp:53,\n",
      "                 from /home/schild/anaconda3/envs/cognitive/lib/python3.12/site-packages/httpstan/include/stan/math/rev.hpp:10:\n",
      "/home/schild/anaconda3/envs/cognitive/lib/python3.12/site-packages/httpstan/include/tbb/internal/_concurrent_unordered_impl.h: In instantiation of ‘void tbb::interface5::internal::concurrent_unordered_base<Traits>::internal_init() [with Traits = tbb::interface5::concurrent_unordered_map_traits<std::pair<std::basic_string<char>, std::thread::id>, stan::math::profile_info, tbb::interface5::internal::hash_compare<std::pair<std::basic_string<char>, std::thread::id>, stan::math::internal::hash_profile_key, stan::math::internal::equal_profile_key>, tbb::tbb_allocator<std::pair<const std::pair<std::basic_string<char>, std::thread::id>, stan::math::profile_info> >, false>]’:\n",
      "/home/schild/anaconda3/envs/cognitive/lib/python3.12/site-packages/httpstan/include/tbb/internal/_concurrent_unordered_impl.h:773:9:   required from ‘tbb::interface5::internal::concurrent_unordered_base<Traits>::concurrent_unordered_base(size_type, const hash_compare&, const allocator_type&) [with Traits = tbb::interface5::concurrent_unordered_map_traits<std::pair<std::basic_string<char>, std::thread::id>, stan::math::profile_info, tbb::interface5::internal::hash_compare<std::pair<std::basic_string<char>, std::thread::id>, stan::math::internal::hash_profile_key, stan::math::internal::equal_profile_key>, tbb::tbb_allocator<std::pair<const std::pair<std::basic_string<char>, std::thread::id>, stan::math::profile_info> >, false>; size_type = long unsigned int; hash_compare = tbb::interface5::internal::hash_compare<std::pair<std::basic_string<char>, std::thread::id>, stan::math::internal::hash_profile_key, stan::math::internal::equal_profile_key>; allocator_type = std::allocator_traits<tbb::tbb_allocator<std::pair<const std::pair<std::basic_string<char>, std::thread::id>, stan::math::profile_info> > >::rebind_alloc<std::pair<const std::pair<std::basic_string<char>, std::thread::id>, stan::math::profile_info> >]’\n",
      "/home/schild/anaconda3/envs/cognitive/lib/python3.12/site-packages/httpstan/include/tbb/concurrent_unordered_map.h:112:68:   required from ‘tbb::interface5::concurrent_unordered_map<Key, T, Hasher, Key_equality, Allocator>::concurrent_unordered_map(size_type, const hasher&, const key_equal&, const allocator_type&) [with Key = std::pair<std::basic_string<char>, std::thread::id>; T = stan::math::profile_info; Hasher = stan::math::internal::hash_profile_key; Key_equality = stan::math::internal::equal_profile_key; Allocator = tbb::tbb_allocator<std::pair<const std::pair<std::basic_string<char>, std::thread::id>, stan::math::profile_info> >; size_type = long unsigned int; hasher = stan::math::internal::hash_profile_key; key_equal = stan::math::internal::equal_profile_key; allocator_type = std::allocator_traits<tbb::tbb_allocator<std::pair<const std::pair<std::basic_string<char>, std::thread::id>, stan::math::profile_info> > >::rebind_alloc<std::pair<const std::pair<std::basic_string<char>, std::thread::id>, stan::math::profile_info> >]’\n",
      "/home/schild/.cache/httpstan/4.13.0/models/ov366x2h/model_ov366x2h.cpp:6:0:   required from here\n",
      "/home/schild/anaconda3/envs/cognitive/lib/python3.12/site-packages/httpstan/include/tbb/internal/_concurrent_unordered_impl.h:1345:15: warning: ‘void* memset(void*, int, size_t)’ clearing an object of type ‘struct tbb::atomic<tbb::interface5::internal::flist_iterator<tbb::interface5::internal::split_ordered_list<std::pair<const std::pair<std::basic_string<char>, std::thread::id>, stan::math::profile_info>, tbb::tbb_allocator<std::pair<const std::pair<std::basic_string<char>, std::thread::id>, stan::math::profile_info> > >, std::pair<const std::pair<std::basic_string<char>, std::thread::id>, stan::math::profile_info> >*>’ with no trivial copy-assignment; use assignment or value-initialization instead [-Wclass-memaccess]\n",
      " 1345 |         memset(my_buckets, 0, sizeof(my_buckets));\n",
      "      |         ~~~~~~^~~~~~~~~~~~~~~~~~~~~~~~~~~~~~~~~~~\n",
      "In file included from /home/schild/anaconda3/envs/cognitive/lib/python3.12/site-packages/httpstan/include/tbb/tbb_profiling.h:123,\n",
      "                 from /home/schild/anaconda3/envs/cognitive/lib/python3.12/site-packages/httpstan/include/tbb/task.h:36,\n",
      "                 from /home/schild/anaconda3/envs/cognitive/lib/python3.12/site-packages/httpstan/include/tbb/task_arena.h:23,\n",
      "                 from /home/schild/anaconda3/envs/cognitive/lib/python3.12/site-packages/httpstan/include/stan/math/prim/core/init_threadpool_tbb.hpp:18,\n",
      "                 from /home/schild/anaconda3/envs/cognitive/lib/python3.12/site-packages/httpstan/include/stan/math/prim/core.hpp:4,\n",
      "                 from /home/schild/anaconda3/envs/cognitive/lib/python3.12/site-packages/httpstan/include/stan/math/rev/core/Eigen_NumTraits.hpp:5,\n",
      "                 from /home/schild/anaconda3/envs/cognitive/lib/python3.12/site-packages/httpstan/include/stan/math/rev/core/typedefs.hpp:7,\n",
      "                 from /home/schild/anaconda3/envs/cognitive/lib/python3.12/site-packages/httpstan/include/stan/math/rev/core/chainable_object.hpp:6,\n",
      "                 from /home/schild/anaconda3/envs/cognitive/lib/python3.12/site-packages/httpstan/include/stan/math/rev/core.hpp:10:\n",
      "/home/schild/anaconda3/envs/cognitive/lib/python3.12/site-packages/httpstan/include/tbb/atomic.h:507:1: note: ‘struct tbb::atomic<tbb::interface5::internal::flist_iterator<tbb::interface5::internal::split_ordered_list<std::pair<const std::pair<std::basic_string<char>, std::thread::id>, stan::math::profile_info>, tbb::tbb_allocator<std::pair<const std::pair<std::basic_string<char>, std::thread::id>, stan::math::profile_info> > >, std::pair<const std::pair<std::basic_string<char>, std::thread::id>, stan::math::profile_info> >*>’ declared here\n",
      "  507 | atomic<T*>: internal::atomic_impl_with_arithmetic<T*,ptrdiff_t,T> {\n",
      "      | ^~~~~~~~~~\n"
     ]
    },
    {
     "name": "stdout",
     "output_type": "stream",
     "text": [
      "\n"
     ]
    },
    {
     "name": "stderr",
     "output_type": "stream",
     "text": [
      "\n",
      "Building: 12.8s, done.Messages from stanc:\n",
      "Warning: The parameter g has 2 priors.\n",
      "Warning: The parameter d has 2 priors.\n",
      "Sampling:   0%\n",
      "Sampling:  25% (3000/12000)\n",
      "Sampling:  50% (6000/12000)\n",
      "Sampling:  75% (9000/12000)\n",
      "Sampling: 100% (12000/12000)\n",
      "Sampling: 100% (12000/12000), done.\n",
      "Messages received during sampling:\n",
      "  Gradient evaluation took 1.1e-05 seconds\n",
      "  1000 transitions using 10 leapfrog steps per transition would take 0.11 seconds.\n",
      "  Adjust your expectations accordingly!\n",
      "  Gradient evaluation took 1.7e-05 seconds\n",
      "  1000 transitions using 10 leapfrog steps per transition would take 0.17 seconds.\n",
      "  Adjust your expectations accordingly!\n",
      "  Gradient evaluation took 1.8e-05 seconds\n",
      "  1000 transitions using 10 leapfrog steps per transition would take 0.18 seconds.\n",
      "  Adjust your expectations accordingly!\n",
      "  Gradient evaluation took 1.5e-05 seconds\n",
      "  1000 transitions using 10 leapfrog steps per transition would take 0.15 seconds.\n",
      "  Adjust your expectations accordingly!\n"
     ]
    },
    {
     "name": "stdout",
     "output_type": "stream",
     "text": [
      "Building..."
     ]
    },
    {
     "name": "stderr",
     "output_type": "stream",
     "text": [
      "In file included from /home/schild/anaconda3/envs/cognitive/lib/python3.12/site-packages/httpstan/include/stan/math/prim/prob/std_normal_ccdf_log.hpp:5,\n",
      "                 from /home/schild/anaconda3/envs/cognitive/lib/python3.12/site-packages/httpstan/include/stan/math/prim/prob.hpp:331,\n",
      "                 from /home/schild/anaconda3/envs/cognitive/lib/python3.12/site-packages/httpstan/include/stan/math/prim.hpp:16,\n",
      "                 from /home/schild/anaconda3/envs/cognitive/lib/python3.12/site-packages/httpstan/include/stan/math/rev.hpp:16,\n",
      "                 from /home/schild/anaconda3/envs/cognitive/lib/python3.12/site-packages/httpstan/include/stan/math.hpp:19,\n",
      "                 from /home/schild/anaconda3/envs/cognitive/lib/python3.12/site-packages/httpstan/include/stan/model/model_header.hpp:4,\n",
      "                 from /home/schild/.cache/httpstan/4.13.0/models/btxso2hr/model_btxso2hr.cpp:2:\n",
      "/home/schild/anaconda3/envs/cognitive/lib/python3.12/site-packages/httpstan/include/stan/math/prim/prob/std_normal_lccdf.hpp: In function ‘stan::return_type_t<T> stan::math::std_normal_lccdf(const T_y&)’:\n",
      "/home/schild/anaconda3/envs/cognitive/lib/python3.12/site-packages/httpstan/include/stan/math/prim/prob/std_normal_lccdf.hpp:52: note: ‘-Wmisleading-indentation’ is disabled from this point onwards, since column-tracking was disabled due to the size of the code/headers\n",
      "   52 |     } else if (y_dbl > 8.25) {\n",
      "      | \n",
      "/home/schild/anaconda3/envs/cognitive/lib/python3.12/site-packages/httpstan/include/stan/math/prim/prob/std_normal_lccdf.hpp:52: note: adding ‘-flarge-source-files’ will allow for more column-tracking support, at the expense of compilation time and memory\n",
      "In file included from /home/schild/anaconda3/envs/cognitive/lib/python3.12/site-packages/httpstan/include/stan/model/model_header.hpp:11:\n",
      "/home/schild/anaconda3/envs/cognitive/lib/python3.12/site-packages/httpstan/include/stan/model/model_base_crtp.hpp: At global scope:\n",
      "/home/schild/anaconda3/envs/cognitive/lib/python3.12/site-packages/httpstan/include/stan/model/model_base_crtp.hpp:159: warning: ‘stan::math::var stan::model::model_base_crtp<M>::log_prob(std::vector<stan::math::var_value<double>, std::allocator<stan::math::var_value<double> > >&, std::vector<int>&, std::ostream*) const [with M = model_btxso2hr_namespace::model_btxso2hr; stan::math::var = stan::math::var_value<double>; std::ostream = std::basic_ostream<char>]’ was hidden [-Woverloaded-virtual=]\n",
      "  159 |   inline math::var log_prob(std::vector<math::var>& theta,\n",
      "      | \n",
      "/home/schild/.cache/httpstan/4.13.0/models/btxso2hr/model_btxso2hr.cpp:403: note:   by ‘model_btxso2hr_namespace::model_btxso2hr::log_prob’\n",
      "  403 |   log_prob(std::vector<T_>& params_r, std::vector<int>& params_i,\n",
      "      | \n",
      "/home/schild/anaconda3/envs/cognitive/lib/python3.12/site-packages/httpstan/include/stan/model/model_base_crtp.hpp:154: warning: ‘double stan::model::model_base_crtp<M>::log_prob(std::vector<double, std::allocator<double> >&, std::vector<int>&, std::ostream*) const [with M = model_btxso2hr_namespace::model_btxso2hr; std::ostream = std::basic_ostream<char>]’ was hidden [-Woverloaded-virtual=]\n",
      "  154 |   inline double log_prob(std::vector<double>& theta, std::vector<int>& theta_i,\n",
      "      | \n",
      "/home/schild/.cache/httpstan/4.13.0/models/btxso2hr/model_btxso2hr.cpp:403: note:   by ‘model_btxso2hr_namespace::model_btxso2hr::log_prob’\n",
      "  403 |   log_prob(std::vector<T_>& params_r, std::vector<int>& params_i,\n",
      "      | \n",
      "/home/schild/anaconda3/envs/cognitive/lib/python3.12/site-packages/httpstan/include/stan/model/model_base_crtp.hpp:96: warning: ‘stan::math::var stan::model::model_base_crtp<M>::log_prob(Eigen::Matrix<stan::math::var_value<double>, -1, 1>&, std::ostream*) const [with M = model_btxso2hr_namespace::model_btxso2hr; stan::math::var = stan::math::var_value<double>; std::ostream = std::basic_ostream<char>]’ was hidden [-Woverloaded-virtual=]\n",
      "   96 |   inline math::var log_prob(Eigen::Matrix<math::var, -1, 1>& theta,\n",
      "      | \n",
      "/home/schild/.cache/httpstan/4.13.0/models/btxso2hr/model_btxso2hr.cpp:403: note:   by ‘model_btxso2hr_namespace::model_btxso2hr::log_prob’\n",
      "  403 |   log_prob(std::vector<T_>& params_r, std::vector<int>& params_i,\n",
      "      | \n",
      "/home/schild/anaconda3/envs/cognitive/lib/python3.12/site-packages/httpstan/include/stan/model/model_base_crtp.hpp:91: warning: ‘double stan::model::model_base_crtp<M>::log_prob(Eigen::VectorXd&, std::ostream*) const [with M = model_btxso2hr_namespace::model_btxso2hr; Eigen::VectorXd = Eigen::Matrix<double, -1, 1>; std::ostream = std::basic_ostream<char>]’ was hidden [-Woverloaded-virtual=]\n",
      "   91 |   inline double log_prob(Eigen::VectorXd& theta,\n",
      "      | \n",
      "/home/schild/.cache/httpstan/4.13.0/models/btxso2hr/model_btxso2hr.cpp:403: note:   by ‘model_btxso2hr_namespace::model_btxso2hr::log_prob’\n",
      "  403 |   log_prob(std::vector<T_>& params_r, std::vector<int>& params_i,\n",
      "      | \n",
      "In file included from /home/schild/anaconda3/envs/cognitive/lib/python3.12/site-packages/httpstan/include/tbb/concurrent_unordered_map.h:26,\n",
      "                 from /home/schild/anaconda3/envs/cognitive/lib/python3.12/site-packages/httpstan/include/stan/math/rev/core/profiling.hpp:10,\n",
      "                 from /home/schild/anaconda3/envs/cognitive/lib/python3.12/site-packages/httpstan/include/stan/math/rev/core.hpp:53,\n",
      "                 from /home/schild/anaconda3/envs/cognitive/lib/python3.12/site-packages/httpstan/include/stan/math/rev.hpp:10:\n",
      "/home/schild/anaconda3/envs/cognitive/lib/python3.12/site-packages/httpstan/include/tbb/internal/_concurrent_unordered_impl.h: In instantiation of ‘void tbb::interface5::internal::concurrent_unordered_base<Traits>::internal_init() [with Traits = tbb::interface5::concurrent_unordered_map_traits<std::pair<std::basic_string<char>, std::thread::id>, stan::math::profile_info, tbb::interface5::internal::hash_compare<std::pair<std::basic_string<char>, std::thread::id>, stan::math::internal::hash_profile_key, stan::math::internal::equal_profile_key>, tbb::tbb_allocator<std::pair<const std::pair<std::basic_string<char>, std::thread::id>, stan::math::profile_info> >, false>]’:\n",
      "/home/schild/anaconda3/envs/cognitive/lib/python3.12/site-packages/httpstan/include/tbb/internal/_concurrent_unordered_impl.h:773:9:   required from ‘tbb::interface5::internal::concurrent_unordered_base<Traits>::concurrent_unordered_base(size_type, const hash_compare&, const allocator_type&) [with Traits = tbb::interface5::concurrent_unordered_map_traits<std::pair<std::basic_string<char>, std::thread::id>, stan::math::profile_info, tbb::interface5::internal::hash_compare<std::pair<std::basic_string<char>, std::thread::id>, stan::math::internal::hash_profile_key, stan::math::internal::equal_profile_key>, tbb::tbb_allocator<std::pair<const std::pair<std::basic_string<char>, std::thread::id>, stan::math::profile_info> >, false>; size_type = long unsigned int; hash_compare = tbb::interface5::internal::hash_compare<std::pair<std::basic_string<char>, std::thread::id>, stan::math::internal::hash_profile_key, stan::math::internal::equal_profile_key>; allocator_type = std::allocator_traits<tbb::tbb_allocator<std::pair<const std::pair<std::basic_string<char>, std::thread::id>, stan::math::profile_info> > >::rebind_alloc<std::pair<const std::pair<std::basic_string<char>, std::thread::id>, stan::math::profile_info> >]’\n",
      "/home/schild/anaconda3/envs/cognitive/lib/python3.12/site-packages/httpstan/include/tbb/concurrent_unordered_map.h:112:68:   required from ‘tbb::interface5::concurrent_unordered_map<Key, T, Hasher, Key_equality, Allocator>::concurrent_unordered_map(size_type, const hasher&, const key_equal&, const allocator_type&) [with Key = std::pair<std::basic_string<char>, std::thread::id>; T = stan::math::profile_info; Hasher = stan::math::internal::hash_profile_key; Key_equality = stan::math::internal::equal_profile_key; Allocator = tbb::tbb_allocator<std::pair<const std::pair<std::basic_string<char>, std::thread::id>, stan::math::profile_info> >; size_type = long unsigned int; hasher = stan::math::internal::hash_profile_key; key_equal = stan::math::internal::equal_profile_key; allocator_type = std::allocator_traits<tbb::tbb_allocator<std::pair<const std::pair<std::basic_string<char>, std::thread::id>, stan::math::profile_info> > >::rebind_alloc<std::pair<const std::pair<std::basic_string<char>, std::thread::id>, stan::math::profile_info> >]’\n",
      "/home/schild/.cache/httpstan/4.13.0/models/btxso2hr/model_btxso2hr.cpp:6:0:   required from here\n",
      "/home/schild/anaconda3/envs/cognitive/lib/python3.12/site-packages/httpstan/include/tbb/internal/_concurrent_unordered_impl.h:1345:15: warning: ‘void* memset(void*, int, size_t)’ clearing an object of type ‘struct tbb::atomic<tbb::interface5::internal::flist_iterator<tbb::interface5::internal::split_ordered_list<std::pair<const std::pair<std::basic_string<char>, std::thread::id>, stan::math::profile_info>, tbb::tbb_allocator<std::pair<const std::pair<std::basic_string<char>, std::thread::id>, stan::math::profile_info> > >, std::pair<const std::pair<std::basic_string<char>, std::thread::id>, stan::math::profile_info> >*>’ with no trivial copy-assignment; use assignment or value-initialization instead [-Wclass-memaccess]\n",
      " 1345 |         memset(my_buckets, 0, sizeof(my_buckets));\n",
      "      |         ~~~~~~^~~~~~~~~~~~~~~~~~~~~~~~~~~~~~~~~~~\n",
      "In file included from /home/schild/anaconda3/envs/cognitive/lib/python3.12/site-packages/httpstan/include/tbb/tbb_profiling.h:123,\n",
      "                 from /home/schild/anaconda3/envs/cognitive/lib/python3.12/site-packages/httpstan/include/tbb/task.h:36,\n",
      "                 from /home/schild/anaconda3/envs/cognitive/lib/python3.12/site-packages/httpstan/include/tbb/task_arena.h:23,\n",
      "                 from /home/schild/anaconda3/envs/cognitive/lib/python3.12/site-packages/httpstan/include/stan/math/prim/core/init_threadpool_tbb.hpp:18,\n",
      "                 from /home/schild/anaconda3/envs/cognitive/lib/python3.12/site-packages/httpstan/include/stan/math/prim/core.hpp:4,\n",
      "                 from /home/schild/anaconda3/envs/cognitive/lib/python3.12/site-packages/httpstan/include/stan/math/rev/core/Eigen_NumTraits.hpp:5,\n",
      "                 from /home/schild/anaconda3/envs/cognitive/lib/python3.12/site-packages/httpstan/include/stan/math/rev/core/typedefs.hpp:7,\n",
      "                 from /home/schild/anaconda3/envs/cognitive/lib/python3.12/site-packages/httpstan/include/stan/math/rev/core/chainable_object.hpp:6,\n",
      "                 from /home/schild/anaconda3/envs/cognitive/lib/python3.12/site-packages/httpstan/include/stan/math/rev/core.hpp:10:\n",
      "/home/schild/anaconda3/envs/cognitive/lib/python3.12/site-packages/httpstan/include/tbb/atomic.h:507:1: note: ‘struct tbb::atomic<tbb::interface5::internal::flist_iterator<tbb::interface5::internal::split_ordered_list<std::pair<const std::pair<std::basic_string<char>, std::thread::id>, stan::math::profile_info>, tbb::tbb_allocator<std::pair<const std::pair<std::basic_string<char>, std::thread::id>, stan::math::profile_info> > >, std::pair<const std::pair<std::basic_string<char>, std::thread::id>, stan::math::profile_info> >*>’ declared here\n",
      "  507 | atomic<T*>: internal::atomic_impl_with_arithmetic<T*,ptrdiff_t,T> {\n",
      "      | ^~~~~~~~~~\n"
     ]
    },
    {
     "name": "stdout",
     "output_type": "stream",
     "text": [
      "\n"
     ]
    },
    {
     "name": "stderr",
     "output_type": "stream",
     "text": [
      "\n",
      "Building: 12.2s, done.Messages from stanc:\n",
      "Warning: The parameter g has 2 priors.\n",
      "Sampling:   0%\n",
      "Sampling:  25% (3000/12000)\n",
      "Sampling:  50% (6000/12000)\n",
      "Sampling:  75% (9000/12000)\n",
      "Sampling: 100% (12000/12000)\n",
      "Sampling: 100% (12000/12000), done.\n",
      "Messages received during sampling:\n",
      "  Gradient evaluation took 3e-06 seconds\n",
      "  1000 transitions using 10 leapfrog steps per transition would take 0.03 seconds.\n",
      "  Adjust your expectations accordingly!\n",
      "  Gradient evaluation took 3e-06 seconds\n",
      "  1000 transitions using 10 leapfrog steps per transition would take 0.03 seconds.\n",
      "  Adjust your expectations accordingly!\n",
      "  Gradient evaluation took 2e-06 seconds\n",
      "  1000 transitions using 10 leapfrog steps per transition would take 0.02 seconds.\n",
      "  Adjust your expectations accordingly!\n",
      "  Gradient evaluation took 2e-06 seconds\n",
      "  1000 transitions using 10 leapfrog steps per transition would take 0.02 seconds.\n",
      "  Adjust your expectations accordingly!\n"
     ]
    }
   ],
   "source": [
    "data = {\"N_old\": N_old, \"N_new\": N_new, \"h\": h, \"fa\": fa}\n",
    "\n",
    "# fit one high threshold model\n",
    "one_ht_model = stan.build(one_high_threshold_mpt, data=data)\n",
    "fit_1ht = one_ht_model.sample(num_samples=2000)\n",
    "\n",
    "# fit two high threshold model\n",
    "two_ht_model = stan.build(two_high_threshold_mpt, data=data)\n",
    "fit_2ht = two_ht_model.sample(num_samples=2000)"
   ]
  },
  {
   "cell_type": "code",
   "execution_count": 11,
   "metadata": {},
   "outputs": [
    {
     "name": "stdout",
     "output_type": "stream",
     "text": [
      "One High Threshold:\n",
      "    mean     sd  hdi_3%  hdi_97%  mcse_mean  mcse_sd  ess_bulk  ess_tail  \\\n",
      "d  0.738  0.135   0.470    0.948      0.002    0.001    6580.0    4882.0   \n",
      "g  0.498  0.213   0.126    0.893      0.003    0.002    6355.0    4915.0   \n",
      "\n",
      "   r_hat  \n",
      "d    1.0  \n",
      "g    1.0  \n",
      "Two High Threshold\n",
      "      mean     sd  hdi_3%  hdi_97%  mcse_mean  mcse_sd  ess_bulk  ess_tail  \\\n",
      "d_o  0.645  0.245   0.160    0.989      0.004    0.003    3304.0    3154.0   \n",
      "d_n  0.634  0.246   0.145    0.985      0.005    0.003    3206.0    2852.0   \n",
      "g    0.492  0.259   0.071    0.923      0.005    0.003    3014.0    4600.0   \n",
      "\n",
      "     r_hat  \n",
      "d_o    1.0  \n",
      "d_n    1.0  \n",
      "g      1.0  \n"
     ]
    }
   ],
   "source": [
    "print(\"One High Threshold:\")\n",
    "print(az.summary(fit_1ht, var_names=[\"d\", \"g\"]))\n",
    "print(\"Two High Threshold\")\n",
    "print(az.summary(fit_2ht, var_names=[\"d_o\", \"d_n\", \"g\"]))\n"
   ]
  },
  {
   "cell_type": "markdown",
   "metadata": {},
   "source": [
    "The two models suggest slightly different key parameter values, with the one high threshold having an average detection of 0.738 and an average guess of 0.498 and the two high threshold having an average old detection of 0.645 and average guess of 0.492. While the guess averages are roughly the same, the (old) detection averages have a more substantial difference. This is likely due to the high accuracy of the one individual who took the recognition task and the small sample size."
   ]
  }
 ],
 "metadata": {
  "kernelspec": {
   "display_name": "cognitive",
   "language": "python",
   "name": "python3"
  },
  "language_info": {
   "codemirror_mode": {
    "name": "ipython",
    "version": 3
   },
   "file_extension": ".py",
   "mimetype": "text/x-python",
   "name": "python",
   "nbconvert_exporter": "python",
   "pygments_lexer": "ipython3",
   "version": "3.12.0"
  }
 },
 "nbformat": 4,
 "nbformat_minor": 2
}
