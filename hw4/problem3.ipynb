{
 "cells": [
  {
   "cell_type": "code",
   "execution_count": 213,
   "metadata": {},
   "outputs": [],
   "source": [
    "import numpy as np\n",
    "import matplotlib.pyplot as plt\n",
    "import pandas as pd\n",
    "\n",
    "import stan\n",
    "import arviz as az\n",
    "\n",
    "import nest_asyncio\n",
    "nest_asyncio.apply()"
   ]
  },
  {
   "cell_type": "code",
   "execution_count": 214,
   "metadata": {},
   "outputs": [],
   "source": [
    "priors = dict(tau0=2.0,tau1=2.0,sigma_alpha=10.0,sigma_beta=1.0)"
   ]
  },
  {
   "cell_type": "code",
   "execution_count": 215,
   "metadata": {},
   "outputs": [],
   "source": [
    "# read in data\n",
    "df = pd.read_csv('insurance.csv')\n",
    "insurance_data = df[['bmi', 'age', 'children']].values.astype(float)\n",
    "charges = df['charges'].values.astype(float)\n",
    "i_mean, i_std = insurance_data.mean(axis=0), insurance_data.std(axis=0)\n",
    "D = (insurance_data - i_mean) / i_std"
   ]
  },
  {
   "cell_type": "code",
   "execution_count": 216,
   "metadata": {},
   "outputs": [],
   "source": [
    "#split data to training and test\n",
    "train_percent = 0.8 #training 80%\n",
    "indices = np.random.permutation(len(D))\n",
    "split = int(train_percent * len(indices))\n",
    "train_index = indices[:split]\n",
    "test_index = indices[split:]\n",
    "D_train, D_test, C_train, C_test = D[train_index], D[test_index], charges[train_index], charges[test_index]"
   ]
  },
  {
   "cell_type": "code",
   "execution_count": 217,
   "metadata": {},
   "outputs": [],
   "source": [
    "code = '''\n",
    "data {\n",
    "  int<lower=1> N;                 // number of training cases\n",
    "  int<lower=1> K;                 // number of predictors\n",
    "  matrix[N, K] X;                 // standardized predictors\n",
    "  vector[N] y;                    // insurance charges\n",
    "  real<lower=0> tau0;             // Inv‑Gamma prior shape\n",
    "  real<lower=0> tau1;             // Inv‑Gamma prior scale\n",
    "  real<lower=0> sigma_alpha;      // intercept prior SD\n",
    "  real<lower=0> sigma_beta;       // slope prior SD\n",
    "}\n",
    "parameters {\n",
    "  real alpha;                     // intercept\n",
    "  vector[K] beta;                 // slopes\n",
    "  real<lower=0> sigma;            // noise SD\n",
    "}\n",
    "model {\n",
    "  sigma ~ inv_gamma(tau0, tau1);\n",
    "  alpha ~ normal(0, sigma_alpha);\n",
    "  beta ~ normal(0, sigma_beta);\n",
    "  y ~ normal(alpha + X * beta, sigma);\n",
    "}\n",
    "\n",
    "'''"
   ]
  },
  {
   "cell_type": "code",
   "execution_count": 218,
   "metadata": {},
   "outputs": [],
   "source": [
    "data = {\n",
    "    'N': D_train.shape[0],\n",
    "    'K': D_train.shape[1],\n",
    "    'X': D_train,\n",
    "    'y': C_train,\n",
    "    **priors\n",
    "}"
   ]
  },
  {
   "cell_type": "code",
   "execution_count": 219,
   "metadata": {},
   "outputs": [
    {
     "name": "stdout",
     "output_type": "stream",
     "text": [
      "Building...\n"
     ]
    },
    {
     "name": "stderr",
     "output_type": "stream",
     "text": [
      "\n",
      "Building: found in cache, done.Messages from stanc:\n",
      "Warning: The parameter sigma has no priors. This means either no prior is\n",
      "    provided, or the prior(s) depend on data variables. In the later case,\n",
      "    this may be a false positive.\n",
      "Warning: The parameter beta has no priors. This means either no prior is\n",
      "    provided, or the prior(s) depend on data variables. In the later case,\n",
      "    this may be a false positive.\n",
      "Warning: The parameter alpha has no priors. This means either no prior is\n",
      "    provided, or the prior(s) depend on data variables. In the later case,\n",
      "    this may be a false positive.\n",
      "Sampling:   0%\n",
      "Sampling:   0% (1/8000)\n",
      "Sampling:   0% (2/8000)\n",
      "Sampling:   0% (3/8000)\n",
      "Sampling:   0% (4/8000)\n",
      "Sampling:  25% (2003/8000)\n",
      "Sampling:  50% (4002/8000)\n",
      "Sampling:  75% (6001/8000)\n",
      "Sampling: 100% (8000/8000)\n",
      "Sampling: 100% (8000/8000), done.\n",
      "Messages received during sampling:\n",
      "  Gradient evaluation took 0.000254 seconds\n",
      "  1000 transitions using 10 leapfrog steps per transition would take 2.54 seconds.\n",
      "  Adjust your expectations accordingly!\n",
      "  Gradient evaluation took 0.000408 seconds\n",
      "  1000 transitions using 10 leapfrog steps per transition would take 4.08 seconds.\n",
      "  Adjust your expectations accordingly!\n",
      "  Gradient evaluation took 0.000461 seconds\n",
      "  1000 transitions using 10 leapfrog steps per transition would take 4.61 seconds.\n",
      "  Adjust your expectations accordingly!\n",
      "  Gradient evaluation took 0.000325 seconds\n",
      "  1000 transitions using 10 leapfrog steps per transition would take 3.25 seconds.\n",
      "  Adjust your expectations accordingly!\n"
     ]
    }
   ],
   "source": [
    "sm = stan.build(program_code=code, data=data)\n",
    "fit = sm.sample(num_chains=4, num_samples=1000)"
   ]
  },
  {
   "cell_type": "code",
   "execution_count": 220,
   "metadata": {},
   "outputs": [
    {
     "name": "stdout",
     "output_type": "stream",
     "text": [
      "              mean       sd     hdi_3%    hdi_97%  mcse_mean  mcse_sd  \\\n",
      "alpha        4.351    9.992    -13.975     23.375      0.135    0.146   \n",
      "beta[0]      0.019    1.007     -1.902      1.891      0.014    0.016   \n",
      "beta[1]     -0.009    1.005     -1.957      1.853      0.014    0.016   \n",
      "beta[2]     -0.000    0.973     -1.857      1.828      0.014    0.016   \n",
      "sigma    18047.183  385.810  17305.638  18744.294      5.549    3.924   \n",
      "\n",
      "         ess_bulk  ess_tail  r_hat  \n",
      "alpha      5443.0    3319.0    1.0  \n",
      "beta[0]    4980.0    2936.0    1.0  \n",
      "beta[1]    5370.0    3039.0    1.0  \n",
      "beta[2]    4845.0    3137.0    1.0  \n",
      "sigma      4816.0    2993.0    1.0  \n"
     ]
    }
   ],
   "source": [
    "az_fit = az.from_pystan(posterior=fit)\n",
    "print(az.summary(az_fit, var_names=['alpha', 'beta', 'sigma']))"
   ]
  },
  {
   "cell_type": "code",
   "execution_count": 221,
   "metadata": {},
   "outputs": [
    {
     "data": {
      "image/png": "[encoded data removed]",
      "text/plain": [
       "<Figure size 640x480 with 1 Axes>"
      ]
     },
     "metadata": {},
     "output_type": "display_data"
    }
   ],
   "source": [
    "beta_draws = fit[\"beta\"]\n",
    "beta_mean  = np.abs(beta_draws.mean(axis=1))\n",
    "plt.bar(['bmi', 'age', 'children'], beta_mean)\n",
    "plt.ylabel('Mean')\n",
    "plt.title('Predictor importance')\n",
    "plt.tight_layout()\n",
    "plt.show()"
   ]
  },
  {
   "cell_type": "markdown",
   "metadata": {},
   "source": [
    "The best predictor of insurance charges is BMI."
   ]
  }
 ],
 "metadata": {
  "kernelspec": {
   "display_name": "cognitive",
   "language": "python",
   "name": "python3"
  },
  "language_info": {
   "codemirror_mode": {
    "name": "ipython",
    "version": 3
   },
   "file_extension": ".py",
   "mimetype": "text/x-python",
   "name": "python",
   "nbconvert_exporter": "python",
   "pygments_lexer": "ipython3",
   "version": "3.12.0"
  }
 },
 "nbformat": 4,
 "nbformat_minor": 2
}
